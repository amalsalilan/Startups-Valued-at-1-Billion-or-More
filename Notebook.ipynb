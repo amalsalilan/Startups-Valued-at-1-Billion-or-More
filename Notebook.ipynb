{
 "cells": [
  {
   "cell_type": "code",
   "execution_count": 1,
   "id": "1e7bbed0",
   "metadata": {},
   "outputs": [],
   "source": [
    "import pandas as pd\n",
    "import numpy as np\n",
    "import matplotlib.pyplot as plt\n",
    "import seaborn as sns"
   ]
  },
  {
   "cell_type": "code",
   "execution_count": 2,
   "id": "4037ba98",
   "metadata": {},
   "outputs": [],
   "source": [
    "data=pd.read_csv('unicorns.csv')"
   ]
  },
  {
   "cell_type": "code",
   "execution_count": 3,
   "id": "8ace8b66",
   "metadata": {},
   "outputs": [
    {
     "name": "stdout",
     "output_type": "stream",
     "text": [
      "<class 'pandas.core.frame.DataFrame'>\n",
      "RangeIndex: 1199 entries, 0 to 1198\n",
      "Data columns (total 11 columns):\n",
      " #   Column                      Non-Null Count  Dtype  \n",
      "---  ------                      --------------  -----  \n",
      " 0   Updated at                  1199 non-null   object \n",
      " 1   Company                     1199 non-null   object \n",
      " 2   Crunchbase Url              1199 non-null   object \n",
      " 3   Last Valuation (Billion $)  1199 non-null   float64\n",
      " 4   Date Joined                 1199 non-null   object \n",
      " 5   Year Joined                 1199 non-null   int64  \n",
      " 6   City                        1181 non-null   object \n",
      " 7   Country                     1199 non-null   object \n",
      " 8   Industry                    1199 non-null   object \n",
      " 9   Investors                   1199 non-null   object \n",
      " 10  Company Website             0 non-null      float64\n",
      "dtypes: float64(2), int64(1), object(8)\n",
      "memory usage: 103.2+ KB\n"
     ]
    }
   ],
   "source": [
    "data.info()"
   ]
  },
  {
   "cell_type": "code",
   "execution_count": 4,
   "id": "ed9eaed2",
   "metadata": {},
   "outputs": [
    {
     "data": {
      "text/html": [
       "<div>\n",
       "<style scoped>\n",
       "    .dataframe tbody tr th:only-of-type {\n",
       "        vertical-align: middle;\n",
       "    }\n",
       "\n",
       "    .dataframe tbody tr th {\n",
       "        vertical-align: top;\n",
       "    }\n",
       "\n",
       "    .dataframe thead th {\n",
       "        text-align: right;\n",
       "    }\n",
       "</style>\n",
       "<table border=\"1\" class=\"dataframe\">\n",
       "  <thead>\n",
       "    <tr style=\"text-align: right;\">\n",
       "      <th></th>\n",
       "      <th>Updated at</th>\n",
       "      <th>Company</th>\n",
       "      <th>Crunchbase Url</th>\n",
       "      <th>Last Valuation (Billion $)</th>\n",
       "      <th>Date Joined</th>\n",
       "      <th>Year Joined</th>\n",
       "      <th>City</th>\n",
       "      <th>Country</th>\n",
       "      <th>Industry</th>\n",
       "      <th>Investors</th>\n",
       "      <th>Company Website</th>\n",
       "    </tr>\n",
       "  </thead>\n",
       "  <tbody>\n",
       "    <tr>\n",
       "      <th>0</th>\n",
       "      <td>10/31/2022, 2:37:05 AM</td>\n",
       "      <td>Esusu</td>\n",
       "      <td>https://www.cbinsights.com/company/esusu</td>\n",
       "      <td>1.0</td>\n",
       "      <td>1/27/2022</td>\n",
       "      <td>2022</td>\n",
       "      <td>New York</td>\n",
       "      <td>United States</td>\n",
       "      <td>Fintech</td>\n",
       "      <td>[\"Next Play Ventures\",\"Zeal Capital Partners\",...</td>\n",
       "      <td>NaN</td>\n",
       "    </tr>\n",
       "    <tr>\n",
       "      <th>1</th>\n",
       "      <td>10/31/2022, 2:37:05 AM</td>\n",
       "      <td>Fever Labs</td>\n",
       "      <td>https://www.cbinsights.com/company/fever-labs</td>\n",
       "      <td>1.0</td>\n",
       "      <td>1/26/2022</td>\n",
       "      <td>2022</td>\n",
       "      <td>New York</td>\n",
       "      <td>United States</td>\n",
       "      <td>Internet software &amp; services</td>\n",
       "      <td>[\"Accel\",\"14W\",\"GS Growth\"]</td>\n",
       "      <td>NaN</td>\n",
       "    </tr>\n",
       "    <tr>\n",
       "      <th>2</th>\n",
       "      <td>10/31/2022, 2:37:04 AM</td>\n",
       "      <td>Minio</td>\n",
       "      <td>https://www.cbinsights.com/company/minio</td>\n",
       "      <td>1.0</td>\n",
       "      <td>1/26/2022</td>\n",
       "      <td>2022</td>\n",
       "      <td>Palo Alto</td>\n",
       "      <td>United States</td>\n",
       "      <td>Data management &amp; analytics</td>\n",
       "      <td>[\"General Catalyst\",\"Nexus Venture Partners\",\"...</td>\n",
       "      <td>NaN</td>\n",
       "    </tr>\n",
       "    <tr>\n",
       "      <th>3</th>\n",
       "      <td>10/31/2022, 2:37:04 AM</td>\n",
       "      <td>Darwinbox</td>\n",
       "      <td>https://www.cbinsights.com/company/darwinbox</td>\n",
       "      <td>1.0</td>\n",
       "      <td>1/25/2022</td>\n",
       "      <td>2022</td>\n",
       "      <td>Hyderabad</td>\n",
       "      <td>India</td>\n",
       "      <td>Internet software &amp; services</td>\n",
       "      <td>[\"Lightspeed India Partners\",\"Sequoia Capital ...</td>\n",
       "      <td>NaN</td>\n",
       "    </tr>\n",
       "    <tr>\n",
       "      <th>4</th>\n",
       "      <td>10/31/2022, 2:37:04 AM</td>\n",
       "      <td>Pentera</td>\n",
       "      <td>https://www.cbinsights.com/company/pcysys</td>\n",
       "      <td>1.0</td>\n",
       "      <td>1/11/2022</td>\n",
       "      <td>2022</td>\n",
       "      <td>Petah Tikva</td>\n",
       "      <td>Israel</td>\n",
       "      <td>Cybersecurity</td>\n",
       "      <td>[\"AWZ Ventures\",\"Blackstone\",\"Insight Partners\"]</td>\n",
       "      <td>NaN</td>\n",
       "    </tr>\n",
       "  </tbody>\n",
       "</table>\n",
       "</div>"
      ],
      "text/plain": [
       "               Updated at     Company  \\\n",
       "0  10/31/2022, 2:37:05 AM       Esusu   \n",
       "1  10/31/2022, 2:37:05 AM  Fever Labs   \n",
       "2  10/31/2022, 2:37:04 AM       Minio   \n",
       "3  10/31/2022, 2:37:04 AM   Darwinbox   \n",
       "4  10/31/2022, 2:37:04 AM     Pentera   \n",
       "\n",
       "                                  Crunchbase Url  Last Valuation (Billion $)  \\\n",
       "0       https://www.cbinsights.com/company/esusu                         1.0   \n",
       "1  https://www.cbinsights.com/company/fever-labs                         1.0   \n",
       "2       https://www.cbinsights.com/company/minio                         1.0   \n",
       "3   https://www.cbinsights.com/company/darwinbox                         1.0   \n",
       "4      https://www.cbinsights.com/company/pcysys                         1.0   \n",
       "\n",
       "  Date Joined  Year Joined         City        Country  \\\n",
       "0   1/27/2022         2022     New York  United States   \n",
       "1   1/26/2022         2022     New York  United States   \n",
       "2   1/26/2022         2022    Palo Alto  United States   \n",
       "3   1/25/2022         2022    Hyderabad          India   \n",
       "4   1/11/2022         2022  Petah Tikva         Israel   \n",
       "\n",
       "                       Industry  \\\n",
       "0                       Fintech   \n",
       "1  Internet software & services   \n",
       "2   Data management & analytics   \n",
       "3  Internet software & services   \n",
       "4                Cybersecurity    \n",
       "\n",
       "                                           Investors  Company Website  \n",
       "0  [\"Next Play Ventures\",\"Zeal Capital Partners\",...              NaN  \n",
       "1                        [\"Accel\",\"14W\",\"GS Growth\"]              NaN  \n",
       "2  [\"General Catalyst\",\"Nexus Venture Partners\",\"...              NaN  \n",
       "3  [\"Lightspeed India Partners\",\"Sequoia Capital ...              NaN  \n",
       "4   [\"AWZ Ventures\",\"Blackstone\",\"Insight Partners\"]              NaN  "
      ]
     },
     "execution_count": 4,
     "metadata": {},
     "output_type": "execute_result"
    }
   ],
   "source": [
    "data.head(5)"
   ]
  },
  {
   "cell_type": "markdown",
   "id": "879ccd83",
   "metadata": {},
   "source": [
    "# 1.1 determine how many industries are represented in the data and how much each"
   ]
  },
  {
   "cell_type": "code",
   "execution_count": 5,
   "id": "3be6e563",
   "metadata": {
    "scrolled": true
   },
   "outputs": [
    {
     "name": "stdout",
     "output_type": "stream",
     "text": [
      "Fintech                                253\n",
      "Internet software & services           231\n",
      "E-commerce & direct-to-consumer        109\n",
      "Health                                  95\n",
      "Artificial intelligence                 75\n",
      "Supply chain, logistics, & delivery     68\n",
      "Other                                   64\n",
      "Cybersecurity                           56\n",
      "Data management & analytics             45\n",
      "Mobile & telecommunications             39\n",
      "Hardware                                38\n",
      "Auto & transportation                   37\n",
      "Edtech                                  32\n",
      "Consumer & retail                       27\n",
      "Travel                                  14\n",
      "Artificial Intelligence                 11\n",
      "Cybersecurity                            2\n",
      "Auto & transportation                    1\n",
      "Artificial intelligence                  1\n",
      "Consumer & retail                        1\n",
      "Name: Industry, dtype: int64\n"
     ]
    },
    {
     "data": {
      "text/plain": [
       "<AxesSubplot:>"
      ]
     },
     "execution_count": 5,
     "metadata": {},
     "output_type": "execute_result"
    },
    {
     "data": {
      "image/png": "[encoded data removed]",
      "text/plain": [
       "<Figure size 432x288 with 1 Axes>"
      ]
     },
     "metadata": {
      "needs_background": "light"
     },
     "output_type": "display_data"
    }
   ],
   "source": [
    "print(data['Industry'].value_counts())\n",
    "data['Industry'].value_counts().plot(kind='bar')"
   ]
  },
  {
   "cell_type": "markdown",
   "id": "1a1b532d",
   "metadata": {},
   "source": [
    "As can be seen, Fintech has the highest number of startups, followed by internet software companies."
   ]
  },
  {
   "cell_type": "markdown",
   "id": "87fcb398",
   "metadata": {},
   "source": [
    "# 1.2 Let's see which year has the most startups established And which are they"
   ]
  },
  {
   "cell_type": "code",
   "execution_count": 6,
   "id": "d0439e3f",
   "metadata": {},
   "outputs": [
    {
     "data": {
      "text/plain": [
       "<AxesSubplot:>"
      ]
     },
     "execution_count": 6,
     "metadata": {},
     "output_type": "execute_result"
    },
    {
     "data": {
      "image/png": "[encoded data removed]",
      "text/plain": [
       "<Figure size 432x288 with 1 Axes>"
      ]
     },
     "metadata": {
      "needs_background": "light"
     },
     "output_type": "display_data"
    }
   ],
   "source": [
    "data['Year Joined'].value_counts().plot(kind='bar')"
   ]
  },
  {
   "cell_type": "code",
   "execution_count": 7,
   "id": "79eb8dba",
   "metadata": {},
   "outputs": [
    {
     "data": {
      "text/plain": [
       "0                   Esusu\n",
       "1              Fever Labs\n",
       "2                   Minio\n",
       "3               Darwinbox\n",
       "4                 Pentera\n",
       "              ...        \n",
       "242                 Qonto\n",
       "243    The Boring Company\n",
       "244                 RELEX\n",
       "245                KuCoin\n",
       "246                  Miro\n",
       "Name: Company, Length: 247, dtype: object"
      ]
     },
     "execution_count": 7,
     "metadata": {},
     "output_type": "execute_result"
    }
   ],
   "source": [
    "Compony_22=data.loc[data['Year Joined'] == 2022]\n",
    "Compony_22['Company']"
   ]
  },
  {
   "cell_type": "code",
   "execution_count": 8,
   "id": "5e89bfe5",
   "metadata": {},
   "outputs": [],
   "source": [
    "data = data.rename(columns={'Last Valuation (Billion $)': 'Valuation'})"
   ]
  },
  {
   "cell_type": "code",
   "execution_count": 9,
   "id": "fa47e535",
   "metadata": {},
   "outputs": [],
   "source": [
    "# data.loc[(data.Industry == 'Fintech') & (data.Valuation>=20)]"
   ]
  },
  {
   "cell_type": "code",
   "execution_count": 10,
   "id": "8d1f398f",
   "metadata": {},
   "outputs": [
    {
     "data": {
      "text/plain": [
       "Country        Industry                           \n",
       "Argentina      Fintech                                 1\n",
       "Australia      E-commerce & direct-to-consumer         1\n",
       "               Fintech                                 2\n",
       "               Internet software & services            5\n",
       "Austria        Edtech                                  1\n",
       "                                                      ..\n",
       "United States  Other                                  33\n",
       "               Supply chain, logistics, & delivery    26\n",
       "               Travel                                  1\n",
       "Vietnam        Fintech                                 1\n",
       "               Internet software & services            1\n",
       "Name: Valuation, Length: 216, dtype: int64"
      ]
     },
     "execution_count": 10,
     "metadata": {},
     "output_type": "execute_result"
    }
   ],
   "source": [
    "df_by_country=data.groupby(['Country','Industry'])['Valuation'].count()\n",
    "df_by_country"
   ]
  },
  {
   "cell_type": "code",
   "execution_count": 12,
   "id": "9c9d8d7e",
   "metadata": {},
   "outputs": [
    {
     "data": {
      "text/plain": [
       "Country\n",
       "Argentina                 1.0\n",
       "Australia                 8.0\n",
       "Austria                   2.0\n",
       "Bahamas                   1.0\n",
       "Belgium                   3.0\n",
       "Bermuda                   1.0\n",
       "Brazil                   16.0\n",
       "Canada                   19.0\n",
       "Chile                     2.0\n",
       "China                   173.0\n",
       "Colombia                  3.0\n",
       "Croatia                   2.0\n",
       "Czech Republic            1.0\n",
       "Denmark                   2.0\n",
       "Ecuador                   1.0\n",
       "Estonia                   2.0\n",
       "Finland                   4.0\n",
       "France                   24.0\n",
       "Germany                  29.0\n",
       "Hong Kong                 7.0\n",
       "India                    70.0\n",
       "Indonesia                 7.0\n",
       "Ireland                   6.0\n",
       "Israel                   23.0\n",
       "Italy                     2.0\n",
       "Japan                     6.0\n",
       "Liechtenstein             1.0\n",
       "Lithuania                 2.0\n",
       "Luxembourg                1.0\n",
       "Malaysia                  1.0\n",
       "Mexico                    8.0\n",
       "Netherlands               7.0\n",
       "Nigeria                   1.0\n",
       "Norway                    5.0\n",
       "Philippines               2.0\n",
       "Senegal                   1.0\n",
       "Seychelles                1.0\n",
       "Singapore                14.0\n",
       "South Africa              2.0\n",
       "South Korea              16.0\n",
       "Spain                     5.0\n",
       "Sweden                    8.0\n",
       "Switzerland               6.0\n",
       "Thailand                  3.0\n",
       "Turkey                    3.0\n",
       "United Arab Emirates      3.0\n",
       "United Kingdom           47.0\n",
       "United States           645.0\n",
       "Vietnam                   2.0\n",
       "dtype: float64"
      ]
     },
     "execution_count": 12,
     "metadata": {},
     "output_type": "execute_result"
    }
   ],
   "source": [
    "df_by_country_n=df_by_country.unstack().sum(axis=1)\n",
    "df_by_country_n"
   ]
  },
  {
   "cell_type": "code",
   "execution_count": 13,
   "id": "49d462ce",
   "metadata": {},
   "outputs": [],
   "source": [
    "pct=df_by_country/df_by_country_n"
   ]
  },
  {
   "cell_type": "code",
   "execution_count": 27,
   "id": "4fc78a26",
   "metadata": {},
   "outputs": [
    {
     "data": {
      "text/plain": [
       "<AxesSubplot:xlabel='Country'>"
      ]
     },
     "execution_count": 27,
     "metadata": {},
     "output_type": "execute_result"
    },
    {
     "data": {
      "image/png": "[encoded data removed]",
      "text/plain": [
       "<Figure size 1080x576 with 1 Axes>"
      ]
     },
     "metadata": {
      "needs_background": "light"
     },
     "output_type": "display_data"
    }
   ],
   "source": [
    "pct.head(30).unstack().plot(kind=\"bar\",figsize=(15,8))"
   ]
  }
 ],
 "metadata": {
  "kernelspec": {
   "display_name": "Python 3 (ipykernel)",
   "language": "python",
   "name": "python3"
  },
  "language_info": {
   "codemirror_mode": {
    "name": "ipython",
    "version": 3
   },
   "file_extension": ".py",
   "mimetype": "text/x-python",
   "name": "python",
   "nbconvert_exporter": "python",
   "pygments_lexer": "ipython3",
   "version": "3.9.12"
  }
 },
 "nbformat": 4,
 "nbformat_minor": 5
}
